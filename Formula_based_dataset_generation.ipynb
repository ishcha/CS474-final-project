{
  "nbformat": 4,
  "nbformat_minor": 0,
  "metadata": {
    "colab": {
      "provenance": []
    },
    "kernelspec": {
      "name": "python3",
      "display_name": "Python 3"
    },
    "language_info": {
      "name": "python"
    }
  },
  "cells": [
    {
      "cell_type": "code",
      "execution_count": 3,
      "metadata": {
        "colab": {
          "base_uri": "https://localhost:8080/"
        },
        "id": "cv3-Wv6vz2Qd",
        "outputId": "aaf46a68-54a1-4b12-ebd9-dd29502ffde8"
      },
      "outputs": [
        {
          "output_type": "stream",
          "name": "stdout",
          "text": [
            "Collecting z3-solver\n",
            "  Downloading z3_solver-4.12.2.0-py2.py3-none-manylinux2014_x86_64.whl (55.7 MB)\n",
            "\u001b[2K     \u001b[90m━━━━━━━━━━━━━━━━━━━━━━━━━━━━━━━━━━━━━━━━\u001b[0m \u001b[32m55.7/55.7 MB\u001b[0m \u001b[31m12.8 MB/s\u001b[0m eta \u001b[36m0:00:00\u001b[0m\n",
            "\u001b[?25hInstalling collected packages: z3-solver\n",
            "Successfully installed z3-solver-4.12.2.0\n"
          ]
        }
      ],
      "source": [
        "!pip install z3-solver"
      ]
    },
    {
      "cell_type": "code",
      "source": [
        "# code to generate data for formulas having a single predicate\n",
        "import pandas as pd\n",
        "import numpy as np\n",
        "\n",
        "output_arr = np.zeros((1024, 11))\n",
        "# -1: output axis, 0:10 -> input\n",
        "flag = 0\n",
        "output_idx = 9\n",
        "for i in range(10):\n",
        "  for j in range(0, 1024):\n",
        "    output_arr[j][i] = flag\n",
        "    if output_idx == i:\n",
        "      output_arr[j][-1] = flag\n",
        "    if (j+1)%(2**(i)) == 0:\n",
        "      flag = 1 - flag\n",
        "\n",
        "\n",
        "# for j in range(1024):\n",
        "#   output_arr[j][10] = j%2\n",
        "\n",
        "df = pd.DataFrame(output_arr)\n",
        "\n",
        "df.drop_duplicates().shape\n",
        "df.to_csv('output_9_10.csv', index = False)\n"
      ],
      "metadata": {
        "colab": {
          "base_uri": "https://localhost:8080/"
        },
        "id": "EnD1NHPMDg0w",
        "outputId": "b1677987-a05e-4bfe-e772-80169af4ccf0"
      },
      "execution_count": null,
      "outputs": [
        {
          "output_type": "execute_result",
          "data": {
            "text/plain": [
              "(1024, 11)"
            ]
          },
          "metadata": {},
          "execution_count": 1
        }
      ]
    },
    {
      "cell_type": "code",
      "source": [
        "#Code to generate data set with a formula with no Nots\n",
        "\n",
        "from tqdm import tqdm\n",
        "from z3 import *\n",
        "import random\n",
        "random.seed(1000)\n",
        "l = []\n",
        "num_predicates = 10\n",
        "for j in range(num_predicates):\n",
        "  l.append(Bool(\"r{}\".format(j)))\n",
        "# print(l)\n",
        "sol = Solver()\n",
        "\n",
        "s = \"Or(\"\n",
        "k = random.randint(6,8)\n",
        "for i in range(2,k):\n",
        "  s = s + \"And(\"\n",
        "  preds = [0,1,2,3,4,5,6,7,8,9]\n",
        "  for j in range(i):\n",
        "    choice = random.choice(preds)\n",
        "    preds.remove(choice)\n",
        "    s = s + \"l[{}],\".format(choice)\n",
        "  s = s[:-1]\n",
        "  s = s + \"),\"\n",
        "s = s[:-1]\n",
        "s = s + \")\"\n",
        "print(s)\n",
        "\n",
        "f = eval(s)\n",
        "  # print(s)\n",
        "#   s1 = s1 + s + \",\"\n",
        "#   f = eval(s)\n",
        "sol.add(f)\n",
        "#   # print(f)\n",
        "# s1 = s1[:-1]\n",
        "# s1 = s1 + \")\"\n",
        "# f1 = eval(s1)\n",
        "with open('output_formula.txt', 'w') as fp:\n",
        "  fp.write(str(f))\n",
        "\n",
        "dataset_size = 2**(num_predicates)\n",
        "# out = [[0]*101]*dataset_size\n",
        "out = []\n",
        "for i in tqdm(range(dataset_size)):\n",
        "  sol.push()\n",
        "  # x = random.uniform(-50,50)\n",
        "  # # print(\"x = \", x)\n",
        "  # upper = x+2\n",
        "  # lower = x -2\n",
        "  # y = random.uniform(lower,upper)\n",
        "  # # print(\"y = \", y)\n",
        "  temp = []\n",
        "  for j in range(num_predicates):\n",
        "    # print(j)\n",
        "    # if (x >= -50 + j) and (x <= -50 + j + 2) and (y >= -50 + j) and (y <= -50 + j + 2):\n",
        "    if(i%2 == 1):\n",
        "      sol.add(l[j])\n",
        "      temp.append(1)\n",
        "      # out[i][j] = 1\n",
        "      # print(out[i][j])\n",
        "      # print(1)\n",
        "    else:\n",
        "      sol.add(Not(l[j]))\n",
        "      temp.append(0)\n",
        "    i = i//2\n",
        "      # out[i][j] = 0\n",
        "      # print(out[j][i])\n",
        "      # print(0)\n",
        "    # print(out)\n",
        "  # print(out)\n",
        "  if (sol.check() == sat):\n",
        "    # print(\"went into if\")\n",
        "    # print(out)\n",
        "    # print(out[i][100])\n",
        "    temp.append(1)\n",
        "    # out[i][100] = 1\n",
        "    # print(out)\n",
        "  else:\n",
        "    # print(\"went into else\")\n",
        "    # print(out)\n",
        "    temp.append(0)\n",
        "    # out[i][100] = 0\n",
        "    # print(out)\n",
        "  sol.pop()\n",
        "  out.append(temp)\n",
        "# print(out)\n",
        "\n",
        "import numpy as np\n",
        "out1 = np.array(out).T\n",
        "# print(out1)\n",
        "\n",
        "import pandas as pd\n",
        "cols = [f'R_{p}' for p in range(num_predicates)]\n",
        "cols.append('out')\n",
        "df = pd.DataFrame(out, columns=cols)\n",
        "df.to_csv('output_10_1_3.csv', index = False)\n",
        "\n"
      ],
      "metadata": {
        "colab": {
          "base_uri": "https://localhost:8080/"
        },
        "id": "Hqi28YXO3m17",
        "outputId": "73b1185a-95e7-4584-cf3c-221dd4cab674"
      },
      "execution_count": null,
      "outputs": [
        {
          "output_type": "stream",
          "name": "stdout",
          "text": [
            "Or(And(l[1],l[7]),And(l[5],l[1],l[9]),And(l[2],l[9],l[7],l[1]),And(l[3],l[4],l[7],l[8],l[5]),And(l[3],l[6],l[4],l[9],l[5],l[1]))\n"
          ]
        },
        {
          "output_type": "stream",
          "name": "stderr",
          "text": [
            "100%|██████████| 1024/1024 [00:00<00:00, 1262.38it/s]\n"
          ]
        }
      ]
    },
    {
      "cell_type": "code",
      "source": [
        "#Code to generate dataset with a formula containing Nots\n",
        "\n",
        "from tqdm import tqdm\n",
        "from z3 import *\n",
        "import random\n",
        "random.seed(1000)\n",
        "l = []\n",
        "num_predicates = 10\n",
        "for j in range(num_predicates):\n",
        "  l.append(Bool(\"r{}\".format(j)))\n",
        "print(l)\n",
        "sol = Solver()\n",
        "\n",
        "s = \"Or(\"\n",
        "k = random.randint(6,8)\n",
        "for i in range(2,k):\n",
        "  if (i > 2):\n",
        "    for itr in range(2):\n",
        "      s = s + \"And(\"\n",
        "      preds = [0,1,2,3,4,5,6,7,8,9]\n",
        "      for j in range(i):\n",
        "        choice = random.choice(preds)\n",
        "        preds.remove(choice)\n",
        "        flip = random.randint(0,1)\n",
        "        if flip == 1:\n",
        "          s = s + \"l[{}],\".format(choice)\n",
        "        else:\n",
        "          s = s + \"Not(l[{}]),\".format(choice)\n",
        "      s = s[:-1]\n",
        "      s = s + \"),\"\n",
        "  else:\n",
        "    s = s + \"And(\"\n",
        "    preds = [0,1,2,3,4,5,6,7,8,9]\n",
        "    for j in range(i):\n",
        "      choice = random.choice(preds)\n",
        "      preds.remove(choice)\n",
        "      flip = random.randint(0,1)\n",
        "      if flip == 1:\n",
        "        s = s + \"l[{}],\".format(choice)\n",
        "      else:\n",
        "        s = s + \"Not(l[{}]),\".format(choice)\n",
        "    s = s[:-1]\n",
        "    s = s + \"),\"\n",
        "\n",
        "s = s[:-1]\n",
        "s = s + \")\"\n",
        "print(s)\n",
        "\n",
        "\n",
        "  # for j in range(100):\n",
        "  #   res = random.randint(0,1)\n",
        "  #   if res == 0:\n",
        "  #     s = s + \"l[{}],\".format(j)\n",
        "  #   else:\n",
        "  #     s = s + \"Not(l[{}]),\".format(j)\n",
        "\n",
        "# print(s)\n",
        "f = eval(s)\n",
        "  # print(s)\n",
        "#   s1 = s1 + s + \",\"\n",
        "#   f = eval(s)\n",
        "sol.add(f)\n",
        "#   # print(f)\n",
        "# s1 = s1[:-1]\n",
        "# s1 = s1 + \")\"\n",
        "# f1 = eval(s1)\n",
        "with open('output_formula.txt', 'w') as fp:\n",
        "  fp.write(str(f))\n",
        "\n",
        "dataset_size = 2**(num_predicates)\n",
        "# out = [[0]*101]*dataset_size\n",
        "out = []\n",
        "for i in tqdm(range(dataset_size)):\n",
        "  sol.push()\n",
        "  # x = random.uniform(-50,50)\n",
        "  # # print(\"x = \", x)\n",
        "  # upper = x+2\n",
        "  # lower = x -2\n",
        "  # y = random.uniform(lower,upper)\n",
        "  # # print(\"y = \", y)\n",
        "  temp = []\n",
        "  for j in range(num_predicates):\n",
        "    # print(j)\n",
        "    # if (x >= -50 + j) and (x <= -50 + j + 2) and (y >= -50 + j) and (y <= -50 + j + 2):\n",
        "    if(i%2 == 1):\n",
        "      sol.add(l[j])\n",
        "      temp.append(1)\n",
        "      # out[i][j] = 1\n",
        "      # print(out[i][j])\n",
        "      # print(1)\n",
        "    else:\n",
        "      sol.add(Not(l[j]))\n",
        "      temp.append(0)\n",
        "    i = i//2\n",
        "      # out[i][j] = 0\n",
        "      # print(out[j][i])\n",
        "      # print(0)\n",
        "    # print(out)\n",
        "  # print(out)\n",
        "  if (sol.check() == sat):\n",
        "    # print(\"went into if\")\n",
        "    # print(out)\n",
        "    # print(out[i][100])\n",
        "    temp.append(1)\n",
        "    # out[i][100] = 1\n",
        "    # print(out)\n",
        "  else:\n",
        "    # print(\"went into else\")\n",
        "    # print(out)\n",
        "    temp.append(0)\n",
        "    # out[i][100] = 0\n",
        "    # print(out)\n",
        "  sol.pop()\n",
        "  out.append(temp)\n",
        "# print(out)\n",
        "\n",
        "import numpy as np\n",
        "out1 = np.array(out).T\n",
        "# print(out1)\n",
        "\n",
        "import pandas as pd\n",
        "cols = [f'R_{p}' for p in range(num_predicates)]\n",
        "cols.append('out')\n",
        "df = pd.DataFrame(out, columns=cols)\n",
        "df.to_csv('output_10.csv', index = False)\n",
        "\n"
      ],
      "metadata": {
        "id": "FwDq_uyQ0m2E",
        "colab": {
          "base_uri": "https://localhost:8080/"
        },
        "outputId": "e440cb4d-d800-4eae-a77f-a7e31189e649"
      },
      "execution_count": 5,
      "outputs": [
        {
          "output_type": "stream",
          "name": "stdout",
          "text": [
            "[r0, r1, r2, r3, r4, r5, r6, r7, r8, r9]\n",
            "Or(And(l[1],Not(l[6])),And(Not(l[7]),l[9],Not(l[2])),And(l[3],Not(l[8]),Not(l[6])),And(Not(l[7]),l[0],l[3],l[8]),And(Not(l[3]),l[9],Not(l[4]),Not(l[7])),And(Not(l[4]),Not(l[5]),l[0],Not(l[9]),l[8]),And(Not(l[4]),l[3],l[8],Not(l[7]),l[1]),And(l[9],l[1],l[7],l[3],l[6],l[5]),And(Not(l[0]),l[3],Not(l[2]),Not(l[5]),Not(l[6]),Not(l[4])))\n"
          ]
        },
        {
          "output_type": "stream",
          "name": "stderr",
          "text": [
            "100%|██████████| 1024/1024 [00:00<00:00, 2854.31it/s]\n"
          ]
        }
      ]
    }
  ]
}